{
 "cells": [
  {
   "cell_type": "markdown",
   "metadata": {},
   "source": [
    "# Routing Path Update\n",
    "\n",
    "\n",
    "> **基本資訊**  \n",
    "> 程式語言: C  \n",
    "> 程式網址: https://onlinegdb.com/9OJzYnfzL  \n",
    "> 製作時長: 2 周  \n",
    "> 作者: Hutaki Hare  \n",
    "\n",
    "## 題目簡介 \n",
    "給定n個節點，並輸入舊的與要更新至的新的 routing path，將舊的path在不造成drop、cycle一步一步更新至新的path，且傳輸順序不可亂掉。  \n",
    " \n",
    "\n",
    "## 運作方式\n",
    "### 1.開始: 輸入n、新舊路徑\n",
    "\n",
    "![input1](HW2-pic/input1.png)\n",
    "\n",
    "舊的路徑  \n",
    "![graphic_input1](HW2-pic/graphic_input1.png)\n",
    "\n",
    "![node_graph1](HW2-pic/node_graph1.png)\n",
    "\n",
    "新的路徑  \n",
    "![graphic_input2](HW2-pic/graphic_input2.png)\n",
    "\n",
    "![node_graph2](HW2-pic/node_graph2.png)"
   ]
  },
  {
   "cell_type": "markdown",
   "metadata": {
    "vscode": {
     "languageId": "c"
    }
   },
   "source": [
    "```raw\n",
    "scanf(\"%d\",&n);                                   //scan node num\n",
    "linked_list strt_arr[n],result_arr[n];\n",
    "for(int i=0;i<n;i++){\n",
    "    scanf(\"%d\",&num);\n",
    "    strt_arr[i].node=i;\n",
    "    strt_arr[i].num=num;\n",
    "}\n",
    "for(int j=0;j<n;j++){                                   //store all in arr sequently\n",
    "    scanf(\"%d\",&num);\n",
    "        result_arr[j].node=j;\n",
    "        result_arr[j].num=num;\n",
    "}\n",
    "```"
   ]
  },
  {
   "cell_type": "markdown",
   "metadata": {},
   "source": [
    "### 2. 過程\n",
    " 1. 用stack的方式儲存兩個routing path  \n",
    " ![node_graph3](HW2-pic/node_graph3.png)"
   ]
  },
  {
   "cell_type": "code",
   "execution_count": null,
   "metadata": {
    "vscode": {
     "languageId": "c"
    }
   },
   "outputs": [],
   "source": [
    "for(int t=0;t!=-1;){                                  // put the used nodes in linked list in stack (LIFO)\n",
    "    strt=add_to_list_normal(strt_arr[t].num,t,strt);\n",
    "    t=strt_arr[t].num;\n",
    "}\n",
    "for(int t=0;t!=-1;){                                   // put the used nodes in linked list in stack\n",
    "    result=add_to_list_normal(result_arr[t].num,t,result);\n",
    "    t=result_arr[t].num;\n",
    "}"
   ]
  },
  {
   "cell_type": "markdown",
   "metadata": {},
   "source": [
    "\n",
    " 2. 先算一次更新次數，並印出，再一條一條印出更新過程\n",
    " "
   ]
  },
  {
   "cell_type": "code",
   "execution_count": null,
   "metadata": {
    "vscode": {
     "languageId": "c"
    }
   },
   "outputs": [],
   "source": [
    "int count_fin(linked_list *strt,linked_list *result,linked_list *result_arr,linked_list *tmp_strt_arr,int n){   //count num of steps\n",
    "    linked_list *tmp_re=result,*tmp_strt=strt,strt_arr[n];\n",
    "    int count=1,non_used_assigned=0;   // \"count\" count the num of steps\n",
    "    for(int i=0;i<n;i++){\n",
    "       ...\n",
    "        if((strt_arr[i].num==-1)&&(result_arr[i].num!=-1)){           //if have non used nodes, and what their next is not -1\n",
    "            non_used_assigned=1;                    //count+=1 (update once assigning all node to -1)\n",
    "            strt_arr[i].num=result_arr[i].num;     //assign all non used nodes to their right next node \n",
    "        }\n",
    "    }\n",
    "    count+=non_used_assigned;        //count+=0 if no non used nodes that need\n",
    "    while(1){\n",
    "        int non_release_need_count=0;          //count if need to do releasing nodes\n",
    "        if(strt_arr[tmp_re->node].num!=tmp_re->num){         //due to stack,start with the destiny node, if dif go in loop\n",
    "            count++;                             // 1.connection\n",
    "            //connect now directly to the next node it should have (count+=1)\n",
    "            if(tmp_strt->node!=tmp_re->node){       //if have non used nodes after the connection\n",
    "                //from the strt list start, to the node working on now\n",
    "                //if any of the release nodes shouldn't point to -1\n",
    "                //if need to do update\n",
    "                tmp_strt=tmp_store_tmp_strt;  //assign back to tmp_strt was\n",
    "                if(non_release_need_count){   //if need to do updating\n",
    "                    //assign the right next node\n",
    "                    count+=(non_release_need_count);// 2.update non used nodes\n",
    "                }\n",
    "            }\n",
    "        }\n",
    "        if(tmp_re->node==0){              //if now is start node break out\n",
    "            bool all_same=true;\n",
    "            for(int i=0;i<n;i++){       //see if not yet all node well assigned\n",
    "                if(strt_arr[i].num!=result_arr[i].num){\n",
    "                    all_same=false;\n",
    "                   break;\n",
    "                }\n",
    "            }\n",
    "            if(!all_same){ //if not update once to all same \n",
    "                count++;\n",
    "            }\n",
    "            break;\n",
    "        }\n",
    "        tmp_re=tmp_re->next;             //go to next (the node before now)\n",
    "    }\n",
    "    return count;\n",
    "}"
   ]
  },
  {
   "cell_type": "markdown",
   "metadata": {},
   "source": [
    "3. 因為是stack的關係，所以由第一個看起時，實際上是從終點看起，由此將舊的\n",
    "       path與新的path由後往前比對，在發現不同的節點時，若為使用中的點也可直接\n",
    "       連至共通點，再繼續往下比較，若該新的點並未使用則直接將其連至共通的點則\n",
    "       可一直繼續跟新的path做比較往後連，直到下一點是使用中的節點(因為未使用的\n",
    "       節點沒有資訊drop的問題)，跟其連上後，原本連到共通點之間與新的path不同的\n",
    "       點即可release至非使用終點，如此起始點資訊就不會drop，也不會產生cycle的\n",
    "       問題  \n",
    "![node_graph4](HW2-pic/node_graph4.png)  \n",
    "![node_graph5](HW2-pic/node_graph5.png)  \n",
    "![node_graph6](HW2-pic/node_graph6.png)  \n",
    "![node_graph7](HW2-pic/node_graph7.png)  \n",
    "![node_graph8](HW2-pic/node_graph8.png)  \n"
   ]
  },
  {
   "cell_type": "code",
   "execution_count": null,
   "metadata": {
    "vscode": {
     "languageId": "c"
    }
   },
   "outputs": [],
   "source": [
    "void do_fin(linked_list *strt,linked_list *result,linked_list *result_arr,linked_list *strt_arr,int n){  //do the updates\n",
    "    linked_list *tmp_re=result,*tmp_strt=strt->next;\n",
    "    int non_used_assigned=0;\n",
    "    for(int i=0;i<n-1;i++){\n",
    "        if((strt_arr[i].num==-1)&&(result_arr[i].num!=-1)){             //if have non used nodes, and what their next is not -1\n",
    "            non_used_assigned=1;                                    // have assign non used nodes =1\n",
    "            strt_arr[i].num=result_arr[i].num;    //assign all non used nodes to their right next node \n",
    "        }\n",
    "    }\n",
    "    if(non_used_assigned){\n",
    "        tranverse(strt_arr,n);           //if have update, print out\n",
    "    }\n",
    "    while(1){\n",
    "        bool non_release_need_count=false;\n",
    "        if(strt_arr[tmp_re->node].num!=tmp_re->num){       //due to stack,start with the destiny node, if dif go in loop\n",
    "            strt_arr[tmp_re->node].num=result_arr[tmp_re->node].num;  //connect now directly to the next node it should have\n",
    "            tranverse(strt_arr,n);           //print out the updates\n",
    "            linked_list *tmp_store_tmp_strt=tmp_strt;\n",
    "            if(tmp_strt->node!=tmp_re->node){    //if have no non used nodes after the connection\n",
    "                while(tmp_strt->node!=tmp_re->node){   //from the strt list start, update till the node working on now\n",
    "                    if((result_arr[tmp_strt->node].num!=-1)&&(strt_arr[tmp_strt->node].num!=result_arr[tmp_strt->node].num)){  // if all node to connect isn't all to -1\n",
    "                        non_release_need_count=true;     //need to update\n",
    "                        break;\n",
    "                    }\n",
    "                    tmp_strt=tmp_strt->next;      \n",
    "                }\n",
    "                tmp_strt=tmp_store_tmp_strt;          //point tmp_strt back\n",
    "                if(non_release_need_count){         // if need update\n",
    "                    while(tmp_strt->node!=tmp_re->node){       //update all between strt_arr to now\n",
    "                        strt_arr[tmp_strt->node].num=result_arr[tmp_strt->node].num;\n",
    "                        tmp_strt=tmp_strt->next;\n",
    "                    }\n",
    "                    tranverse(strt_arr,n);    //print out the new updates\n",
    "                }\n",
    "            }\n",
    "        }\n",
    "        if(tmp_re->node==0){        //if now is start node break out\n",
    "            bool all_same=true;\n",
    "            for(int i=0;i<n;i++){       //check if all same\n",
    "                if(strt_arr[i].num!=result_arr[i].num){\n",
    "                    all_same=false;\n",
    "                    strt_arr[i].num=result_arr[i].num;\n",
    "                }\n",
    "            }\n",
    "            if(!all_same){ //if not all same, fix it and print out\n",
    "                tranverse(strt_arr,n);\n",
    "            }\n",
    "            break;\n",
    "        }\n",
    "        tmp_re=tmp_re->next;   //go to next (the node before now)\n",
    "    }\n",
    "}"
   ]
  },
  {
   "cell_type": "markdown",
   "metadata": {},
   "source": [
    "### 3. 結果\n",
    "![node_graph9](HW2-pic/node_graph9.png)\n"
   ]
  },
  {
   "cell_type": "code",
   "execution_count": null,
   "metadata": {
    "vscode": {
     "languageId": "c"
    }
   },
   "outputs": [],
   "source": [
    "//main\n",
    "printf(\"%d\\n\",(count_fin(strt,result,result_arr,strt_arr,n)));     //print out the step num\n",
    "tranverse(strt_arr,n);\n",
    "if(!(compare(strt,result))){                        //if two list not same -> update\n",
    "    do_fin(strt,result,result_arr,strt_arr,n);         // do updates\n",
    "}\n",
    "\n",
    "//function\n",
    "void tranverse(linked_list *strt_arr,int n){            //print out arr\n",
    "    for(int i=0;i<n;i++){\n",
    "        if(i!=n-1){\n",
    "            printf(\"%d \",(strt_arr)[i].num);\n",
    "        }else{\n",
    "            printf(\"%d\\n\",(strt_arr)[i].num);\n",
    "        }\n",
    "    }\n",
    "}"
   ]
  }
 ],
 "metadata": {
  "kernelspec": {
   "display_name": "Python 3 (ipykernel)",
   "language": "python",
   "name": "python3"
  },
  "language_info": {
   "codemirror_mode": {
    "name": "ipython",
    "version": 3
   },
   "file_extension": ".py",
   "mimetype": "text/x-python",
   "name": "python",
   "nbconvert_exporter": "python",
   "pygments_lexer": "ipython3",
   "version": "3.10.12"
  },
  "widgets": {
   "application/vnd.jupyter.widget-state+json": {
    "state": {},
    "version_major": 2,
    "version_minor": 0
   }
  }
 },
 "nbformat": 4,
 "nbformat_minor": 4
}
