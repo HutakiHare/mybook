{
 "cells": [
  {
   "cell_type": "markdown",
   "metadata": {},
   "source": [
    "## 360_degree 作業\n",
    "\n",
    "### 作業主題\n",
    "360全景攝影-遊走中央研究院\n",
    "\n",
    "### 內容介紹\n",
    "第一次使用360度相機進行拍攝，在中研院內部進行練習，拍攝的不太好看，但有越拍越比較好看的跡象，變得比較知道該拍何處、何處較好拍。\n",
    "\n",
    "### 使用資料\n",
    "+ 運用 insta 360 拍攝的影、照片\n",
    "\n",
    "### 詳細工作\n",
    "1. 運用 insta 360 X2 相機外出攝影取得中研院360度全景攝影影片與照片檔\n",
    "2. 將成果檔案匯入電腦中，用 insta 360 studio 將影片與照片接合成完整360度影像\n",
    "3. 將含有GPS的影檔匯出成 MP4 與 GPX 檔上傳至[Google地圖](https://www.google.com/streetview/contribute/)\n",
    "4. 利用 Lama AI 將拍是影片製作成3D影像\n",
    "5. 利用 QGIS 繪製當天的行經路徑圖\n",
    "6. 利用 QGIS 標示出所經的地點，並使用plugins ImportPhotos, Panorama Viewer, StreetView，使檢視者可以看到360度的景點視角影像\n",
    "7. 將上述成果放入個人 [Github](https://github.com/HutakiHare/mybook/tree/a6a39986efcaf3fd207353c13ed688c2bc9dc94b/mybook/360_HW)\n",
    "\n",
    "### 結果呈現\n",
    "+ 資料集 (**詳細資訊請見資料集**)\n",
    "    + [depositar資料集_link](https://pid.depositar.io/ark:37281/k5p483v2x)\n",
    "\n",
    "+ Luma AI 3D 建模\n",
    "    + [太極雕塑](https://lumalabs.ai/embed/e87c47c4-1b4c-4837-b1ba-5280e5c0fe54?mode=sparkles&background=%23ffffff&color=%23000000&showTitle=true&loadBg=true&logoPosition=bottom-left&infoPosition=bottom-right&cinematicVideo=undefined&showMenu=false)\n",
    "    + [中研福德宮香爐](https://lumalabs.ai/embed/9819cf8b-ecc6-42fc-a21c-04c957201d0b?mode=sparkles&background=%23ffffff&color=%23000000&showTitle=true&loadBg=true&logoPosition=bottom-left&infoPosition=bottom-right&cinematicVideo=undefined&showMenu=false)\n",
    "\n",
    "+ QGIS觀看360地點照片\n",
    "    + [Github zip檔](https://github.com/HutakiHare/mybook/tree/39cf4cea63c6d4dc86c965f7306cd554eb5fcce7/mybook/360_HW)\n",
    "    + [GIF demo檔](https://github.com/HutakiHare/mybook/blob/39cf4cea63c6d4dc86c965f7306cd554eb5fcce7/mybook/360_HW/QGIS_demo_GIF.gif)  &#8595;\n",
    "\n",
    "<img src=\"360_HW\\QGIS_demo_GIF.gif\" alt=\"GIF demo\" width=\"900\" height=\"900\"/>\n",
    "\n",
    "+ Google Map 街景連結\n",
    "    + [四分溪旁數理大道](https://maps.app.goo.gl/oRUruiWSEgLvwt156)\n",
    "    + [中研福德宮](https://maps.app.goo.gl/jpc7BKnFYVY3gEbs6)\n",
    "\n",
    "+ 行經路徑圖\n",
    "    + [track Github graph link](https://github.com/HutakiHare/mybook/blob/a6a39986efcaf3fd207353c13ed688c2bc9dc94b/mybook/360_HW/walk_track.png) &#8595;\n",
    "\n",
    "<img src=\"360_HW\\walk_track.png\" alt=\"Github graph link\" width=\"900\" height=\"567\"/>\n"
   ]
  }
 ],
 "metadata": {
  "kernelspec": {
   "display_name": "Python 3 (ipykernel)",
   "language": "python",
   "name": "python3"
  },
  "language_info": {
   "codemirror_mode": {
    "name": "ipython",
    "version": 3
   },
   "file_extension": ".py",
   "mimetype": "text/x-python",
   "name": "python",
   "nbconvert_exporter": "python",
   "pygments_lexer": "ipython3",
   "version": "3.10.12"
  },
  "widgets": {
   "application/vnd.jupyter.widget-state+json": {
    "state": {},
    "version_major": 2,
    "version_minor": 0
   }
  }
 },
 "nbformat": 4,
 "nbformat_minor": 4
}
