{
 "cells": [
  {
   "cell_type": "markdown",
   "metadata": {},
   "source": [
    "# Wikidata 作業\n",
    "\n",
    "## 補[Wikidata檢索]( https://w.wiki/9xsm)飯店資料\n",
    "\n",
    "### 標示飯店\n",
    "1. [Evergreen Laurel Hotel (Keelung)](https://www.wikidata.org/wiki/Q111181560)\n",
    "2. [W5 Best Hotel](https://www.wikidata.org/wiki/Q115968996)\n",
    "3. [Lealea Garden Hotel-Moon](https://www.wikidata.org/wiki/Q115968999)\n",
    "4. [Lealea Garden Hotel Sun Lake](https://www.wikidata.org/wiki/Q115969002)\n",
    "5. [Hilton Taipei Sinban](https://www.wikidata.org/wiki/Q115969034)\n",
    "6. [NiKaiDo Hotel](https://www.wikidata.org/wiki/Q115967758)\n",
    "7. [Shangrila Leisure Farm](https://www.wikidata.org/wiki/Q115967756)\n",
    "8. [Santos Hotel](https://www.wikidata.org/wiki/Q115967465)\n",
    "9. [Kilin Hotel](https://www.wikidata.org/wiki/Q115967454)\n",
    "10. [Taipei Fullerton Hotel East](https://www.wikidata.org/wiki/Q115967441)\n",
    "\n",
    "### 內容呈現\n",
    "ex\n",
    "(在登入狀態下觀看)\n",
    "![螢幕擷取畫面 2024-07-31 005132](Wiki-pic/1.png)\n",
    "(在登出狀態下觀看)\n",
    "![螢幕擷取畫面 2024-07-31 005107](Wiki-pic/2.png)\n",
    "==不知為何保留的資料有限==\n",
    "\n",
    "### 使用資料\n",
    "1. 飯店官方網站\n",
    "2. 訂房網站\n",
    "\n",
    "### 操作成果\n",
    "![螢幕擷取畫面 2024-07-31 010155](Wiki-pic/3.png)\n",
    "![螢幕擷取畫面 2024-07-31 010254](Wiki-pic/4.png)\n",
    "![螢幕擷取畫面 2024-07-31 010325](Wiki-pic/5.png)\n",
    "![螢幕擷取畫面 2024-07-31 010415](Wiki-pic/6.png)\n",
    "\n",
    "## Wikidata 檢索使用與狀況\n",
    "\n",
    ">查詢日本女性聲優，但因為人數眾多，故限定在栃木縣\n",
    "\n",
    "![螢幕擷取畫面 2024-08-01 101010](Wiki-pic/7.png)\n",
    "[code link](https://w.wiki/AohF)\n",
    "\n",
    ">我雖然顯示是中文，但是是打英文尋wikidata關鍵字\n",
    "但起初選擇中文\"演員\"的聲優選項並無尋找的目標，探究相同開頭的索引結果\n",
    "\n",
    "![螢幕擷取畫面 2024-07-31 165419](Wiki-pic/8.png)\n",
    "![螢幕擷取畫面 2024-07-31 165434](Wiki-pic/9.png)\n",
    "\n",
    ">並對照搜尋目標 (已自行補齊資料)\n",
    "\n",
    "![螢幕擷取畫面 2024-07-31 165409](Wiki-pic/10.png)\n",
    "![螢幕擷取畫面 2024-07-31 165402](Wiki-pic/11.png)\n",
    "\n",
    ">搜尋定義\n",
    "\n",
    "![螢幕擷取畫面 2024-07-31 171359](Wiki-pic/12.png)\n",
    "![螢幕擷取畫面 2024-07-31 171337](Wiki-pic/13.png)\n",
    "\n",
    ">兩者或許都是對的職業選擇，seiyū其實是屬於actor的，但因為索引對象的資料中只填寫了較大範圍的內容(actor)，會使得在查詢seiyū時找不到該號人物，因為seiyū屬於actor並不代表actor屬於seiyū，所以會造成索引結果不完全，而這個問題也無法被\"加上上級分類\"解決，因為有的職業資料是被放在instance of，有的在subclass of，但搜索人物職業時它又放在occupation，所以索引時是該用occupation/instance of/subclass of是很大的問題，更不用說不論選哪個找到的東西都不是完整的。 \n",
    ">\n",
    "> **&there4;** 應該需要一致有的基準  \n",
    ">  \n",
    "> 若在編輯Wikidata時，在得到有其他子集的輸入時(大範圍)，可以秀出這些子集供編輯者選擇，盡量讓編輯者可以把資料填到更詳盡，若編輯者不確定則在子集的部分選不確定，讓其他編輯者來補齊，而資料的處理則可以看看要不要讓該資料先屬於全部的子集，使得不確定的也可先被看見。  \n",
    ">  \n",
    "> 還有限定資料填寫的地方(有看到人的\"instance of\"填寫了職業)，這個property在檢索已經有欸使用到了(P跟Q)，那是不是也可以歸類職業只能填在\"occupation\"，在\"instance of\"處就不可以填寫，這樣雖然會造成依些不合理(ex:\"voice actor\"確實是 instance of \"actor\")，但這樣在檢索上會比較一致(現行方案的每個property都是相對於該項目而言)，在任何地方都可以使用(more globally)。"
   ]
  }
 ],
 "metadata": {
  "kernelspec": {
   "display_name": "Python 3 (ipykernel)",
   "language": "python",
   "name": "python3"
  },
  "language_info": {
   "codemirror_mode": {
    "name": "ipython",
    "version": 3
   },
   "file_extension": ".py",
   "mimetype": "text/x-python",
   "name": "python",
   "nbconvert_exporter": "python",
   "pygments_lexer": "ipython3",
   "version": "3.10.12"
  },
  "widgets": {
   "application/vnd.jupyter.widget-state+json": {
    "state": {},
    "version_major": 2,
    "version_minor": 0
   }
  }
 },
 "nbformat": 4,
 "nbformat_minor": 4
}