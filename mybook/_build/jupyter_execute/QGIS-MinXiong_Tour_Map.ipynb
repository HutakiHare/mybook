{
 "cells": [
  {
   "cell_type": "markdown",
   "metadata": {},
   "source": [
    "# QGIS 作業\n",
    "\n",
    "## 作業主題\n",
    "2024 嘉義民雄鄉旅遊地圖\n",
    "\n",
    "### 內容呈現\n",
    "因為本人就讀於民雄的大學，不論是同學或是自己的家長來學校附近找住宿、飲食、遊玩地點時，總是要用google地圖滑來滑去尋找，不太方便，所以做此地圖，專為民雄旅遊提供參考(可惜飲食資訊不太充分)，給來民雄旅遊者多一份資料。\n",
    "\n",
    "### 使用資料\n",
    "+ [景點 - 觀光資訊資料庫](https://data.gov.tw/dataset/7777): 觀光資料標準V1.0—景點SHP\n",
    "+ [餐飲 - 觀光資訊資料庫](https://data.gov.tw/dataset/7779): 觀光資料標準V1.0—餐飲SHP\n",
    "+ [鄉鎮市區界線(TWD97經緯度)](https://data.gov.tw/dataset/7441): 鄉(鎮、市、區)界線(TWD97經緯度)SHP格式\n",
    "+ [旅館民宿 - 觀光資訊資料庫](https://data.gov.tw/dataset/7780): 觀光資料標準V1.0—旅館民宿CSV\n",
    "    + use spreadsheet layer plugin to change csv to vrt\n",
    "\n",
    "### 詳細工作\n",
    "1. 加入台灣通用電子地圖與鄉鎮市區界線圖\n",
    "2. 匯出民雄鄉\n",
    "3. 用外掛spreadsheet layer轉旅館民宿的csv檔為vrt檔\n",
    "4. 加入景點、餐飲、旅館民宿分布圖\n",
    "5. 用 select by location 分離出民雄的景點、餐飲、旅館並匯出儲存\n",
    "6. 更改features的symbology為自己畫的圖\n",
    "7. 用layout manager加入地圖\n",
    "8. 再加入指北針、圖例、比例尺、圖名\n",
    "9. 產生pdf與jpg檔的地圖\n",
    "10. 因為圖檔太大無法顯示，所以經過壓縮從 8.992MB -> 0.94MB\n",
    "\n",
    "### 結果呈現 (壓縮)\n",
    "\n",
    "![Minxiong Tour Map](QGIS-pic/Minxiong_Tour_Map.png)"
   ]
  }
 ],
 "metadata": {
  "kernelspec": {
   "display_name": "Python 3 (ipykernel)",
   "language": "python",
   "name": "python3"
  },
  "language_info": {
   "codemirror_mode": {
    "name": "ipython",
    "version": 3
   },
   "file_extension": ".py",
   "mimetype": "text/x-python",
   "name": "python",
   "nbconvert_exporter": "python",
   "pygments_lexer": "ipython3",
   "version": "3.10.12"
  },
  "widgets": {
   "application/vnd.jupyter.widget-state+json": {
    "state": {},
    "version_major": 2,
    "version_minor": 0
   }
  }
 },
 "nbformat": 4,
 "nbformat_minor": 4
}