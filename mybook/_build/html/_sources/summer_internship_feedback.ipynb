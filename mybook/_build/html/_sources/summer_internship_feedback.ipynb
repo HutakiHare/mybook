{
 "cells": [
  {
   "cell_type": "markdown",
   "metadata": {},
   "source": [
    "# Summer internship review\n",
    "\n",
    "## Brief description of internship content\n",
    "\n",
    "1. The concept and production of Open Science (DMP, RDM, GitHub Pages (JB), GitHub Actions)\n",
    "2. The use of Geographic Information System and contributions (QGIS, OSM,360 degree panoramic filming)\n",
    "3. Open knowledge base contribution (Wikidata)\n",
    "4. Research about the use of Snakemake (intern project)\n",
    "\n",
    "## What I learned and achieved in the internship\n",
    "\n",
    "&nbsp;&nbsp;In the first two weeks, I’ve learned some basic knowledge to prepare for future programs like Linux commandlines, text create tools, git commands, how to make a webpage with Jupyter book and GitHub, and most importantly, the core of [depositar](https://data.depositar.io/), concept of [Open data](https://data.depositar.io/about). During this span of time, There are three things I remembered the most. First, I got to use the new tool (to me), Markdown. With the knowledge of it, I started to be a big fan of Hackmd, and create prettier text from then on. Second, I made my first webpage through Jupyter book and GitHub. I put all the works I’ve done here as an intern in it, and decided to make one webpage as my blog to record all of myworks from now on. Third, the course about Open data. Through the course, I got to know the importance of managing data, and making it more community benefit. Due to the information the researchers provided, I was able to join the events I didn’t know before, the 2024 COSCUP and the NASA TOPS workshop, which were other stories.  \n",
    "\n",
    "&nbsp;&nbsp;In the next two weeks, I got to learn the use of QGIS, OpenStreetMap, Wikidata and 360 degree panoramic filming. To practice the new skills I picked up, I’ve done some works for each of them. For QGIS, I made a tour map of Minxiong, where my school located in. For OSM,I did research on Taipei Public Transportation and contributed to Tasking Manager, a public map. As for Wikidata, I contributed over a hundred edits to Wikidata, an open knowledge base. And last, for 360 panoramic filming, I made 3D models by LumaAI, filmed places of AS and contributed the videos to Google Street Map.\n",
    "\n",
    "&nbsp;&nbsp;For the last month of internship, I was assigned with the project to do research about Snakemake, a workflow controller. In the final report, I’ve written the intro and tutorial about Snakemake to let people don’t know Snakemake have a grasp on it, and submitted some mock-up samples targeting to integrate Snakemake with the BinderHub in depositar, the research data repository.\n",
    "\n",
    "## Feedback of internship\n",
    "\n",
    "I’ve learned way more from this summer internship than I expected. Initially, I actually thought I was only going to read some paper, and write a report about it. However,during this internship, I’ve been given with knowledge I didn’t knew, skills I’ve never reach out to constructional advices school teachers would not tell me and the research/technical discussions with various people, which are all an indescribable experience to me.\n",
    "\n",
    "##  Overall self-evaluation\n",
    "\n",
    "&nbsp;&nbsp;During this internship time, I thought I have improved my communication skills a bit. Although I wasn’t a talkative person I made an effort to interact with people I was not so familiar with — sometimes for the skills I don’t know, and sometimes for the things that just didn’t matter at all. Awkward as they sometimes were, I still felt good for all the conversation I had. Besides communications,the other thing brought me much good is the techniques and knowledge I’ve learned here. Not only the courses that have broadened my professional skills in the area I’ve never explored before, but also the way how the researchers here see stuff. From them, I’ve learned how to analyze and solve problems by inspecting all the possible reasons of the problem, and then bringing them out for further discussions. All of these experiences have brick by brick built up me and my internship time. I wouldn’t say I’ve done a perfect job here as an intern. Actually, I thought I’ve done a quite awful job in the final project. But what I’ve gained in this time is meaningful and nothing to argue about to me. I enjoyed the atmosphere in the lab, and the people here who treated us, interns, so nicely as if we had always been one of them. To me,this summer is more than memorable.  \n",
    "\n",
    ":::{topic} info\n",
    "All of detail information mentioned above is Findable and Accessible in [my GitHub](https://github.com/HutakiHare/mybook.git)\n",
    ":::"
   ]
  }
 ],
 "metadata": {
  "kernelspec": {
   "display_name": "Python 3 (ipykernel)",
   "language": "python",
   "name": "python3"
  },
  "language_info": {
   "codemirror_mode": {
    "name": "ipython",
    "version": 3
   },
   "file_extension": ".py",
   "mimetype": "text/x-python",
   "name": "python",
   "nbconvert_exporter": "python",
   "pygments_lexer": "ipython3",
   "version": "3.10.12"
  },
  "widgets": {
   "application/vnd.jupyter.widget-state+json": {
    "state": {},
    "version_major": 2,
    "version_minor": 0
   }
  }
 },
 "nbformat": 4,
 "nbformat_minor": 4
}
