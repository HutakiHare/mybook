{
 "cells": [
  {
   "cell_type": "markdown",
   "metadata": {},
   "source": [
    "# Wikidata 作業\n",
    "\n",
    "## 補[Wikidata檢索]( https://w.wiki/9xsm)飯店資料\n",
    "\n",
    "### 標示飯店\n",
    "1. [Evergreen Laurel Hotel (Keelung)](https://www.wikidata.org/wiki/Q111181560)\n",
    "2. [W5 Best Hotel](https://www.wikidata.org/wiki/Q115968996)\n",
    "3. [Lealea Garden Hotel-Moon](https://www.wikidata.org/wiki/Q115968999)\n",
    "4. [Lealea Garden Hotel Sun Lake](https://www.wikidata.org/wiki/Q115969002)\n",
    "5. [Hilton Taipei Sinban](https://www.wikidata.org/wiki/Q115969034)\n",
    "6. [NiKaiDo Hotel](https://www.wikidata.org/wiki/Q115967758)\n",
    "7. [Shangrila Leisure Farm](https://www.wikidata.org/wiki/Q115967756)\n",
    "8. [Santos Hotel](https://www.wikidata.org/wiki/Q115967465)\n",
    "9. [Kilin Hotel](https://www.wikidata.org/wiki/Q115967454)\n",
    "10. [Taipei Fullerton Hotel East](https://www.wikidata.org/wiki/Q115967441)\n",
    "\n",
    "### 內容呈現\n",
    "ex\n",
    "(在登入狀態下觀看)\n",
    "![螢幕擷取畫面 2024-07-31 005132](Wiki-pic/1.png)\n",
    "(在登出狀態下觀看)\n",
    "![螢幕擷取畫面 2024-07-31 005107](Wiki-pic/2.png)\n",
    "==不知為何保留的資料有限==\n",
    "\n",
    "### 使用資料\n",
    "1. 飯店官方網站\n",
    "2. 訂房網站\n",
    "\n",
    "### 操作成果\n",
    "![螢幕擷取畫面 2024-07-31 010155](Wiki-pic/3.png)\n",
    "![螢幕擷取畫面 2024-07-31 010254](Wiki-pic/4.png)\n",
    "![螢幕擷取畫面 2024-07-31 010325](Wiki-pic/5.png)\n",
    "![螢幕擷取畫面 2024-07-31 010415](Wiki-pic/6.png)\n",
    "\n",
    "## Wikidata 檢索使用與狀況\n",
    "\n",
    ">查詢日本女性聲優，但因為人數眾多，故限定在栃木縣\n",
    "\n",
    "![螢幕擷取畫面 2024-08-01 101010](Wiki-pic/7.png)\n",
    "[code link](https://w.wiki/AohF)\n",
    "\n",
    ">我雖然顯示是中文，但是是打英文尋wikidata關鍵字\n",
    "但起初選擇中文\"演員\"的聲優選項並無尋找的目標，探究相同開頭的索引結果\n",
    "\n",
    "![螢幕擷取畫面 2024-07-31 165419](Wiki-pic/8.png)\n",
    "![螢幕擷取畫面 2024-07-31 165434](Wiki-pic/9.png)\n",
    "\n",
    ">並對照搜尋目標 (已自行補齊資料)\n",
    "\n",
    "![螢幕擷取畫面 2024-07-31 165409](Wiki-pic/10.png)\n",
    "![螢幕擷取畫面 2024-07-31 165402](Wiki-pic/11.png)\n",
    "\n",
    ">搜尋定義\n",
    "\n",
    "![螢幕擷取畫面 2024-07-31 171359](Wiki-pic/12.png)\n",
    "![螢幕擷取畫面 2024-07-31 171337](Wiki-pic/13.png)\n",
    "\n",
    ">兩者或許都是對的職業選擇，但聲優更明確、正確，或者seiyū屬於該定義下的actor，但因為定義分界不夠明確、資料填寫未把上級分類寫入，而且應該有相當多的女性聲優還有此狀況(資料不全，無法被查詢到)，會造成索引結果不完全。 (同樣的事也發生在我的國中上，按老師查詢上級分類為學校的索引中，查不到\"天母國中\"，因其定位在\"公立學校\" - state school)\n",
    "> **&there4;** 應該需要一致有的基準"
   ]
  }
 ],
 "metadata": {
  "kernelspec": {
   "display_name": "Python 3 (ipykernel)",
   "language": "python",
   "name": "python3"
  },
  "language_info": {
   "codemirror_mode": {
    "name": "ipython",
    "version": 3
   },
   "file_extension": ".py",
   "mimetype": "text/x-python",
   "name": "python",
   "nbconvert_exporter": "python",
   "pygments_lexer": "ipython3",
   "version": "3.10.12"
  },
  "widgets": {
   "application/vnd.jupyter.widget-state+json": {
    "state": {},
    "version_major": 2,
    "version_minor": 0
   }
  }
 },
 "nbformat": 4,
 "nbformat_minor": 4
}
